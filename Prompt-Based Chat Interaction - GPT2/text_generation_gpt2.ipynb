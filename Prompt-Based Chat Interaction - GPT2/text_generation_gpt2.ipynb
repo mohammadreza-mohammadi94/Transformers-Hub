{
  "nbformat": 4,
  "nbformat_minor": 0,
  "metadata": {
    "colab": {
      "provenance": []
    },
    "kernelspec": {
      "name": "python3",
      "display_name": "Python 3"
    },
    "language_info": {
      "name": "python"
    }
  },
  "cells": [
    {
      "cell_type": "markdown",
      "source": [
        "# Install Dependencies"
      ],
      "metadata": {
        "id": "YGyqpoQF2NgV"
      }
    },
    {
      "cell_type": "code",
      "execution_count": null,
      "metadata": {
        "id": "1AAoaeZZ2Co_"
      },
      "outputs": [],
      "source": [
        "!pip install -q --upgrade datasets huggingface_hub fsspec"
      ]
    },
    {
      "cell_type": "markdown",
      "source": [
        "# Load Model From HF"
      ],
      "metadata": {
        "id": "Mm4OL1If2Sva"
      }
    },
    {
      "cell_type": "code",
      "source": [
        "from transformers import pipeline\n",
        "\n",
        "# Define generator\n",
        "generator = pipeline('text-generation', model='gpt2')\n",
        "print(generator)"
      ],
      "metadata": {
        "id": "Qadmfmjs2QEY"
      },
      "execution_count": null,
      "outputs": []
    },
    {
      "cell_type": "markdown",
      "source": [
        "# Use Model"
      ],
      "metadata": {
        "id": "QXA8nBIU2vtg"
      }
    },
    {
      "cell_type": "markdown",
      "source": [
        "### Generate Simple Text"
      ],
      "metadata": {
        "id": "iqH1Zimi4vDb"
      }
    },
    {
      "cell_type": "code",
      "source": [
        "# Example Usage 1 #\n",
        "#-----------------#\n",
        "from pprint import pprint\n",
        "\n",
        "# create a prompt\n",
        "prompt = \"Once upon a time in a magical forest\"\n",
        "\n",
        "results = generator(prompt,\n",
        "                    max_length=50,\n",
        "                    num_return_sequences=3)\n",
        "\n",
        "for i, result in enumerate(results):\n",
        "    pprint(f\"Generated Text {i+1}: {result['generated_text']}\")"
      ],
      "metadata": {
        "id": "rON9bjJi2eRz"
      },
      "execution_count": null,
      "outputs": []
    },
    {
      "cell_type": "markdown",
      "source": [
        "### Generate Email"
      ],
      "metadata": {
        "id": "USO-OvbV4xXp"
      }
    },
    {
      "cell_type": "code",
      "source": [
        "# Example Usage 2 #\n",
        "#-----------------#\n",
        "\n",
        "prompt = \"Write a formal email to apologize for missing the meeting yesterday.\"\n",
        "\n",
        "result = generator(prompt, max_length=100, num_return_sequences=1)\n",
        "pprint(result[0]['generated_text'])"
      ],
      "metadata": {
        "id": "kZUf1H7e3E0A"
      },
      "execution_count": null,
      "outputs": []
    },
    {
      "cell_type": "markdown",
      "source": [
        "### Simple ChatBot"
      ],
      "metadata": {
        "id": "tjr9q0te4yfa"
      }
    },
    {
      "cell_type": "code",
      "source": [
        "# Example Usage 3 #\n",
        "#-----------------#\n",
        "chat_history = \"The following is a conversation between a human and an AI assistant.\\n\"\n",
        "\n",
        "while True:\n",
        "    user_input = input(\"You: \")\n",
        "    if user_input.lower() in ['exit', 'quit']:\n",
        "        break\n",
        "\n",
        "    chat_history += f\"Human: {user_input}\\nAI:\"\n",
        "    response = generator(chat_history, max_length=300, num_return_sequences=1)[0]['generated_text']\n",
        "\n",
        "    # extract answer\n",
        "    full_reply = response[len(chat_history):]\n",
        "    answer = full_reply.split(\"Human:\")[0].strip()\n",
        "\n",
        "    print(f\"AI: {answer}\")\n",
        "    chat_history += f\"{answer}\\n\"\n"
      ],
      "metadata": {
        "id": "GzTehHfC3_5G"
      },
      "execution_count": null,
      "outputs": []
    },
    {
      "cell_type": "code",
      "source": [],
      "metadata": {
        "id": "tBqsWC2R44h5"
      },
      "execution_count": null,
      "outputs": []
    },
    {
      "cell_type": "code",
      "source": [],
      "metadata": {
        "id": "J7wDRZTf44fV"
      },
      "execution_count": null,
      "outputs": []
    },
    {
      "cell_type": "code",
      "source": [],
      "metadata": {
        "id": "WhVQVd5h44c2"
      },
      "execution_count": null,
      "outputs": []
    }
  ]
}