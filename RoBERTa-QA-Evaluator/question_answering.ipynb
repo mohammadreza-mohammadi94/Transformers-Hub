{
  "nbformat": 4,
  "nbformat_minor": 0,
  "metadata": {
    "colab": {
      "provenance": []
    },
    "kernelspec": {
      "name": "python3",
      "display_name": "Python 3"
    },
    "language_info": {
      "name": "python"
    }
  },
  "cells": [
    {
      "cell_type": "markdown",
      "source": [
        "# Install & Update Dependencies"
      ],
      "metadata": {
        "id": "hF69azWSxoc4"
      }
    },
    {
      "cell_type": "code",
      "source": [
        "!pip install -q --upgrade datasets huggingface_hub fsspec"
      ],
      "metadata": {
        "id": "qf4UVYvqwmW6"
      },
      "execution_count": null,
      "outputs": []
    },
    {
      "cell_type": "markdown",
      "source": [
        "# Import Model & SQuAD Dataset"
      ],
      "metadata": {
        "id": "CJ2G-6BQzjU5"
      }
    },
    {
      "cell_type": "code",
      "execution_count": null,
      "metadata": {
        "id": "TDbAsbS9wCbw"
      },
      "outputs": [],
      "source": [
        "from transformers import pipeline\n",
        "from datasets import load_dataset\n",
        "\n",
        "# Creating question-answering pipeline\n",
        "qa = pipeline('question-answering',\n",
        "              model='deepset/roberta-base-squad2')\n",
        "\n",
        "# load dataset\n",
        "dataset = load_dataset('squad_v2', split=\"validation[:5]\")"
      ]
    },
    {
      "cell_type": "markdown",
      "source": [
        "# Use Model On SQuADv2 Dataset"
      ],
      "metadata": {
        "id": "l2hsWOvWzgCl"
      }
    },
    {
      "cell_type": "code",
      "source": [
        "for item in dataset:\n",
        "    context = item['context']\n",
        "    q = item['question']\n",
        "    res = qa(question=q,\n",
        "             context=context)\n",
        "    print(f\"Question: {q}\")\n",
        "    print(f\"Asnwer: {res['answer']} (Score: {res['score']:.4f})\")"
      ],
      "metadata": {
        "id": "QjmCN66ZyGdo"
      },
      "execution_count": null,
      "outputs": []
    },
    {
      "cell_type": "markdown",
      "source": [
        "# Use Model on Custom Context & Questions"
      ],
      "metadata": {
        "id": "064MQpiGyiDK"
      }
    },
    {
      "cell_type": "code",
      "source": [
        "# Define Context and Questions\n",
        "context = 'Iran is located in Middle East (Asia). Tehran is capital of Iran.'\n",
        "Q1 = \"Where Iran is located?\"\n",
        "Q2 = \"What is capital of Iran?\"\n",
        "\n",
        "# Use Pipeline\n",
        "res1 = qa(context=context,\n",
        "         question=Q1)\n",
        "res2 = qa(context=context,\n",
        "          question=Q2)\n",
        "\n",
        "# Show results\n",
        "print(f\"Iran is located in: {res1['answer']}\")\n",
        "print(f\"Iran's capital is: {res2['answer']}\")"
      ],
      "metadata": {
        "id": "dBONmaa2ycTQ"
      },
      "execution_count": null,
      "outputs": []
    },
    {
      "cell_type": "code",
      "source": [],
      "metadata": {
        "id": "BXzq0wVty5XW"
      },
      "execution_count": null,
      "outputs": []
    }
  ]
}